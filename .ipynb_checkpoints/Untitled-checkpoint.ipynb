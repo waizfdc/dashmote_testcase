{
 "cells": [
  {
   "cell_type": "code",
   "execution_count": 1,
   "id": "d680eb30",
   "metadata": {},
   "outputs": [],
   "source": [
    "from src.utils.feature_engineering import feature_preprocessing\n",
    "from src.utils.data_splits import test_split"
   ]
  },
  {
   "cell_type": "code",
   "execution_count": 2,
   "id": "6473b827",
   "metadata": {},
   "outputs": [],
   "source": [
    "import pathlib\n",
    "\n",
    "DATA_DIR = 'data/raw'\n",
    "DATA_FILENAME = 'cs1_us_outlets.parquet.gzip'\n",
    "DATA_PATH = pathlib.Path(f'{DATA_DIR}/{DATA_FILENAME}')"
   ]
  },
  {
   "cell_type": "code",
   "execution_count": 3,
   "id": "92dd8f65",
   "metadata": {},
   "outputs": [
    {
     "data": {
      "text/plain": [
       "WindowsPath('data/raw/cs1_us_outlets.parquet.gzip')"
      ]
     },
     "execution_count": 3,
     "metadata": {},
     "output_type": "execute_result"
    }
   ],
   "source": [
    "DATA_PATH"
   ]
  },
  {
   "cell_type": "code",
   "execution_count": 4,
   "id": "a064c948",
   "metadata": {},
   "outputs": [],
   "source": [
    "import pandas as pd"
   ]
  },
  {
   "cell_type": "code",
   "execution_count": 5,
   "id": "f9876747",
   "metadata": {},
   "outputs": [],
   "source": [
    "df = pd.read_parquet(DATA_PATH)"
   ]
  },
  {
   "cell_type": "code",
   "execution_count": 6,
   "id": "2c3d1cd1",
   "metadata": {},
   "outputs": [
    {
     "data": {
      "text/html": [
       "<div>\n",
       "<style scoped>\n",
       "    .dataframe tbody tr th:only-of-type {\n",
       "        vertical-align: middle;\n",
       "    }\n",
       "\n",
       "    .dataframe tbody tr th {\n",
       "        vertical-align: top;\n",
       "    }\n",
       "\n",
       "    .dataframe thead th {\n",
       "        text-align: right;\n",
       "    }\n",
       "</style>\n",
       "<table border=\"1\" class=\"dataframe\">\n",
       "  <thead>\n",
       "    <tr style=\"text-align: right;\">\n",
       "      <th></th>\n",
       "      <th>name</th>\n",
       "      <th>address</th>\n",
       "      <th>lat</th>\n",
       "      <th>lon</th>\n",
       "      <th>telephone</th>\n",
       "      <th>persistent_cluster</th>\n",
       "      <th>label</th>\n",
       "      <th>id_dashmote</th>\n",
       "    </tr>\n",
       "  </thead>\n",
       "  <tbody>\n",
       "    <tr>\n",
       "      <th>0</th>\n",
       "      <td>The Attic Bar and Bistro</td>\n",
       "      <td>Attic Bar &amp; Bistro, 949 Walnut St, Boulder, CO...</td>\n",
       "      <td>40.016559</td>\n",
       "      <td>-105.282414</td>\n",
       "      <td>+1 (303) 415-1300</td>\n",
       "      <td>45417</td>\n",
       "      <td>1.0</td>\n",
       "      <td>676f6c8d-153b-4819-bbc5-3c383b78f4eb</td>\n",
       "    </tr>\n",
       "    <tr>\n",
       "      <th>1</th>\n",
       "      <td>Rio Grande Mexican Restaurant</td>\n",
       "      <td>None</td>\n",
       "      <td>40.017014</td>\n",
       "      <td>-105.280876</td>\n",
       "      <td>3034443690</td>\n",
       "      <td>45417</td>\n",
       "      <td>2.0</td>\n",
       "      <td>ffe391e1-e544-4fc0-90fb-c4a443b36921</td>\n",
       "    </tr>\n",
       "    <tr>\n",
       "      <th>2</th>\n",
       "      <td>Organic Sandwich Company</td>\n",
       "      <td>Organic Sandwich Company, 1500 Pearl St f, Bou...</td>\n",
       "      <td>40.018560</td>\n",
       "      <td>-105.275331</td>\n",
       "      <td>+1 (720) 639-3986</td>\n",
       "      <td>45417</td>\n",
       "      <td>3.0</td>\n",
       "      <td>8328514e-a183-4694-8128-922577f9db37</td>\n",
       "    </tr>\n",
       "    <tr>\n",
       "      <th>3</th>\n",
       "      <td>Illegal Pete's</td>\n",
       "      <td>1447 Pearl St, Boulder, CO 80302, USA</td>\n",
       "      <td>40.018817</td>\n",
       "      <td>-105.276312</td>\n",
       "      <td>+1 (303) 440-3955</td>\n",
       "      <td>45417</td>\n",
       "      <td>4.0</td>\n",
       "      <td>8bdf8b83-0ac6-4ad1-924f-199992f0ae51</td>\n",
       "    </tr>\n",
       "    <tr>\n",
       "      <th>4</th>\n",
       "      <td>Rocket Fizz Boulder</td>\n",
       "      <td>None</td>\n",
       "      <td>40.018803</td>\n",
       "      <td>-105.276360</td>\n",
       "      <td>3034473499</td>\n",
       "      <td>45417</td>\n",
       "      <td>5.0</td>\n",
       "      <td>86a23d54-081b-49c5-b58b-4940074d56ee</td>\n",
       "    </tr>\n",
       "  </tbody>\n",
       "</table>\n",
       "</div>"
      ],
      "text/plain": [
       "                            name  \\\n",
       "0       The Attic Bar and Bistro   \n",
       "1  Rio Grande Mexican Restaurant   \n",
       "2       Organic Sandwich Company   \n",
       "3                 Illegal Pete's   \n",
       "4            Rocket Fizz Boulder   \n",
       "\n",
       "                                             address        lat         lon  \\\n",
       "0  Attic Bar & Bistro, 949 Walnut St, Boulder, CO...  40.016559 -105.282414   \n",
       "1                                               None  40.017014 -105.280876   \n",
       "2  Organic Sandwich Company, 1500 Pearl St f, Bou...  40.018560 -105.275331   \n",
       "3              1447 Pearl St, Boulder, CO 80302, USA  40.018817 -105.276312   \n",
       "4                                               None  40.018803 -105.276360   \n",
       "\n",
       "           telephone persistent_cluster  label  \\\n",
       "0  +1 (303) 415-1300              45417    1.0   \n",
       "1         3034443690              45417    2.0   \n",
       "2  +1 (720) 639-3986              45417    3.0   \n",
       "3  +1 (303) 440-3955              45417    4.0   \n",
       "4         3034473499              45417    5.0   \n",
       "\n",
       "                            id_dashmote  \n",
       "0  676f6c8d-153b-4819-bbc5-3c383b78f4eb  \n",
       "1  ffe391e1-e544-4fc0-90fb-c4a443b36921  \n",
       "2  8328514e-a183-4694-8128-922577f9db37  \n",
       "3  8bdf8b83-0ac6-4ad1-924f-199992f0ae51  \n",
       "4  86a23d54-081b-49c5-b58b-4940074d56ee  "
      ]
     },
     "execution_count": 6,
     "metadata": {},
     "output_type": "execute_result"
    }
   ],
   "source": [
    "df.head()"
   ]
  },
  {
   "cell_type": "code",
   "execution_count": 7,
   "id": "9379fc98",
   "metadata": {},
   "outputs": [
    {
     "ename": "KeyError",
     "evalue": "\"data should contain input columns ['id_record', 'id_dashmote', 'persistent_cluster', 'name', 'telephone', 'lat', 'lon']\"",
     "output_type": "error",
     "traceback": [
      "\u001b[1;31m---------------------------------------------------------------------------\u001b[0m",
      "\u001b[1;31mKeyError\u001b[0m                                  Traceback (most recent call last)",
      "\u001b[1;32m<ipython-input-7-fad766b261fe>\u001b[0m in \u001b[0;36m<module>\u001b[1;34m\u001b[0m\n\u001b[1;32m----> 1\u001b[1;33m \u001b[0mfeature_preprocessing\u001b[0m\u001b[1;33m(\u001b[0m\u001b[0mdf\u001b[0m\u001b[1;33m,\u001b[0m \u001b[0minplace\u001b[0m\u001b[1;33m=\u001b[0m\u001b[1;32mFalse\u001b[0m\u001b[1;33m)\u001b[0m\u001b[1;33m.\u001b[0m\u001b[0mhead\u001b[0m\u001b[1;33m(\u001b[0m\u001b[1;33m)\u001b[0m\u001b[1;33m\u001b[0m\u001b[1;33m\u001b[0m\u001b[0m\n\u001b[0m",
      "\u001b[1;32m~\\Documents\\tmp_code\\dashmote\\dashmote_testcase\\src\\utils\\feature_engineering.py\u001b[0m in \u001b[0;36mfeature_preprocessing\u001b[1;34m(data, inplace)\u001b[0m\n\u001b[0;32m     92\u001b[0m     \u001b[1;31m# check if data has needed columns\u001b[0m\u001b[1;33m\u001b[0m\u001b[1;33m\u001b[0m\u001b[1;33m\u001b[0m\u001b[0m\n\u001b[0;32m     93\u001b[0m     \u001b[1;32mif\u001b[0m \u001b[1;33m(\u001b[0m\u001b[0mset\u001b[0m\u001b[1;33m(\u001b[0m\u001b[0mINPUT_COLUMNS\u001b[0m\u001b[1;33m)\u001b[0m \u001b[1;33m-\u001b[0m \u001b[0mset\u001b[0m\u001b[1;33m(\u001b[0m\u001b[0mdata\u001b[0m\u001b[1;33m.\u001b[0m\u001b[0mcolumns\u001b[0m\u001b[1;33m)\u001b[0m\u001b[1;33m)\u001b[0m \u001b[1;33m!=\u001b[0m \u001b[1;33m{\u001b[0m\u001b[1;33m}\u001b[0m\u001b[1;33m:\u001b[0m\u001b[1;33m\u001b[0m\u001b[1;33m\u001b[0m\u001b[0m\n\u001b[1;32m---> 94\u001b[1;33m         \u001b[1;32mraise\u001b[0m \u001b[0mKeyError\u001b[0m\u001b[1;33m(\u001b[0m\u001b[1;34mf\"data should contain input columns {INPUT_COLUMNS}\"\u001b[0m\u001b[1;33m)\u001b[0m\u001b[1;33m\u001b[0m\u001b[1;33m\u001b[0m\u001b[0m\n\u001b[0m\u001b[0;32m     95\u001b[0m     \u001b[1;32mif\u001b[0m \u001b[1;32mnot\u001b[0m \u001b[0minplace\u001b[0m\u001b[1;33m:\u001b[0m\u001b[1;33m\u001b[0m\u001b[1;33m\u001b[0m\u001b[0m\n\u001b[0;32m     96\u001b[0m         \u001b[0mdata\u001b[0m \u001b[1;33m=\u001b[0m \u001b[0mdata\u001b[0m\u001b[1;33m.\u001b[0m\u001b[0mcopy\u001b[0m\u001b[1;33m(\u001b[0m\u001b[1;33m)\u001b[0m\u001b[1;33m\u001b[0m\u001b[1;33m\u001b[0m\u001b[0m\n",
      "\u001b[1;31mKeyError\u001b[0m: \"data should contain input columns ['id_record', 'id_dashmote', 'persistent_cluster', 'name', 'telephone', 'lat', 'lon']\""
     ]
    }
   ],
   "source": [
    "feature_preprocessing(df, inplace=False).head()"
   ]
  },
  {
   "cell_type": "code",
   "execution_count": null,
   "id": "1ee2da19",
   "metadata": {},
   "outputs": [],
   "source": []
  },
  {
   "cell_type": "raw",
   "id": "d1b263f4",
   "metadata": {},
   "source": []
  }
 ],
 "metadata": {
  "kernelspec": {
   "display_name": "Python 3",
   "language": "python",
   "name": "python3"
  },
  "language_info": {
   "codemirror_mode": {
    "name": "ipython",
    "version": 3
   },
   "file_extension": ".py",
   "mimetype": "text/x-python",
   "name": "python",
   "nbconvert_exporter": "python",
   "pygments_lexer": "ipython3",
   "version": "3.8.8"
  }
 },
 "nbformat": 4,
 "nbformat_minor": 5
}
